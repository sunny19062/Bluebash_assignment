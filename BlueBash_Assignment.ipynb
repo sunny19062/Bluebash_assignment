{
  "nbformat": 4,
  "nbformat_minor": 0,
  "metadata": {
    "colab": {
      "provenance": [],
      "gpuType": "T4"
    },
    "kernelspec": {
      "name": "python3",
      "display_name": "Python 3"
    },
    "language_info": {
      "name": "python"
    },
    "accelerator": "GPU"
  },
  "cells": [
    {
      "cell_type": "markdown",
      "source": [
        "Here's a summary of the basic steps and methods used in the code:\n",
        "\n",
        "**1. Data Loading and Preprocessing:**\n",
        "\n",
        "The code begins by loading the beer review dataset from a CSV file using pandas.\n",
        "Unnecessary columns such as 'user/ageInSeconds', 'user/birthdayRaw', 'user/birthdayUnix', 'user/gender', 'user/profileName', and 'review/timeStruct' are dropped to clean the data.\n",
        "**2. Data Exploration:**\n",
        "\n",
        "The code displays information about the dataset, including data types, column names, and the number of non-null entries.\n",
        "Summary statistics like count, mean, std, min, and max are provided for numerical columns.\n",
        "**Method 1: Using Numerical Features:**\n",
        "\n",
        "A subset of the dataset containing only numerical features ('beer/ABV', 'review/appearance', 'review/aroma', 'review/palate', 'review/taste') is selected.\n",
        "The target variable 'review/overall' is separated from the input features.\n",
        "The data is split into training and testing sets using train_test_split.\n",
        "A linear regression model is created and trained on the training data.\n",
        "The model is evaluated on the test data using mean squared error (MSE), and the result is printed.\n",
        "\n",
        "**Method 2: Using Categorical and Numerical Features:**\n",
        "\n",
        "Another subset of the dataset is selected, including both numerical and categorical features ('beer/ABV', 'beer/name', 'beer/style', 'review/appearance', 'review/aroma', 'review/palate', 'review/taste').\n",
        "Categorical features ('beer/name' and 'beer/style') are encoded using label encoding.\n",
        "Similar to Method 1, the data is split, a linear regression model is trained, and MSE is computed and printed.\n",
        "\n",
        "\n",
        "**Method 3: Using Text Features (TF-IDF):**\n",
        "\n",
        "This method focuses on the 'review/text' feature.\n",
        "The 'review/text' column is separated as the input feature, and 'review/overall' is the target variable.\n",
        "Text data is processed using TF-IDF vectorization (with a maximum of 1000 features).\n",
        "The data is split, a linear regression model is trained, and MSE is computed and printed.\n",
        "\n",
        "**Method 4: Combining Numerical and Text Features:**\n",
        "\n",
        "This method combines the numerical features from Method 1 and the TF-IDF text features from Method 3.\n",
        "The two sets of features are concatenated, and column names are converted to strings to ensure compatibility.\n",
        "Data is split, a linear regression model is trained, and MSE is computed and printed.\n",
        "\n",
        "**Method 5: Combining Categorical, Numerical, and Text Features:**\n",
        "\n",
        "*Similar to Method 4, this method combines categorical, numerical, and text features.\n",
        "*It first combines the features from Method 2 and the TF-IDF text features from Method 3.\n",
        "*Data is split, a linear regression model is trained, and MSE is computed and printed.\n",
        "\n",
        "**Text Data Preprocessing:**\n",
        "\n",
        "Converts text to lowercase.\n",
        "Removes punctuation, stopwords, and lemmatizes words.\n",
        "Tokenizes text data.\n",
        "\n",
        "\n",
        "**Method 6: Text Preprocessing and TF-IDF Vectorization:**\n",
        "\n",
        "Applies text preprocessing to the 'review/text' column.\n",
        "Converts cleaned text into TF-IDF vectors.\n",
        "Evaluates various regression models on TF-IDF vectorized text.\n",
        "\n",
        "\n",
        "**Method 7: Combining Numerical Features with Preprocessed Text:**\n",
        "\n",
        "Combines numerical features with TF-IDF vectorized text.\n",
        "Evaluates regression models on the combined dataset.\n",
        "\n",
        "\n",
        "**Method 8: Combining Categorical and Numerical Features with Preprocessed Text:**\n",
        "\n",
        "Combines categorical and numerical features with TF-IDF vectorized text.\n",
        "Evaluates regression models on the combined dataset."
      ],
      "metadata": {
        "id": "_gsjNrFhcILt"
      }
    },
    {
      "cell_type": "code",
      "execution_count": 1,
      "metadata": {
        "id": "vfdNWTmHltjv"
      },
      "outputs": [],
      "source": [
        "import numpy as np\n",
        "import pandas as pd\n",
        "from sklearn.model_selection import train_test_split\n",
        "from sklearn.model_selection import train_test_split\n",
        "from sklearn.linear_model import LinearRegression, Ridge, Lasso, ElasticNet\n",
        "from sklearn.tree import DecisionTreeRegressor\n",
        "from sklearn.ensemble import RandomForestRegressor, GradientBoostingRegressor\n",
        "from sklearn.neighbors import KNeighborsRegressor\n",
        "from sklearn.svm import SVR\n",
        "from sklearn.metrics import mean_squared_error\n",
        "from sklearn.metrics import mean_squared_error, r2_score"
      ]
    },
    {
      "cell_type": "code",
      "source": [
        "data= pd.read_csv(\"/content/train.csv\")"
      ],
      "metadata": {
        "id": "2jvnTTXFn3tb"
      },
      "execution_count": 4,
      "outputs": []
    },
    {
      "cell_type": "code",
      "source": [
        "data.drop([\"user/ageInSeconds\", \"user/birthdayRaw\",\"user/birthdayUnix\", \"user/gender\", \"user/profileName\",\"review/timeStruct\"], axis=1, inplace=True)"
      ],
      "metadata": {
        "id": "bZ-_41irt2_E"
      },
      "execution_count": 5,
      "outputs": []
    },
    {
      "cell_type": "code",
      "source": [
        "data.head(5)"
      ],
      "metadata": {
        "colab": {
          "base_uri": "https://localhost:8080/",
          "height": 521
        },
        "id": "Jke4bVM-oKKg",
        "outputId": "a1e7f80e-1881-4e7b-e5e8-4ddac63b83f6"
      },
      "execution_count": 6,
      "outputs": [
        {
          "output_type": "execute_result",
          "data": {
            "text/plain": [
              "   index  beer/ABV  beer/beerId  beer/brewerId                  beer/name  \\\n",
              "0  40163       5.0        46634          14338                   Chiostro   \n",
              "1   8135      11.0         3003            395   Bearded Pat's Barleywine   \n",
              "2  10529       4.7          961            365       Naughty Nellie's Ale   \n",
              "3  44610       4.4          429              1            Pilsner Urquell   \n",
              "4  37062       4.4         4904           1417  Black Sheep Ale (Special)   \n",
              "\n",
              "                beer/style  review/appearance  review/aroma  review/overall  \\\n",
              "0     Herbed / Spiced Beer                4.0           4.0             4.0   \n",
              "1      American Barleywine                4.0           3.5             3.5   \n",
              "2  American Pale Ale (APA)                3.5           4.0             3.5   \n",
              "3           Czech Pilsener                3.0           3.0             2.5   \n",
              "4         English Pale Ale                4.0           3.0             3.0   \n",
              "\n",
              "   review/palate  review/taste  \\\n",
              "0            4.0           4.0   \n",
              "1            3.5           3.0   \n",
              "2            3.5           3.5   \n",
              "3            3.0           3.0   \n",
              "4            3.5           2.5   \n",
              "\n",
              "                                         review/text  review/timeUnix  \n",
              "0  Pours a clouded gold with a thin white head. N...       1229398690  \n",
              "1  12oz bottle into 8oz snifter.\\t\\tDeep ruby red...       1218238738  \n",
              "2  First enjoyed at the brewpub about 2 years ago...       1101492422  \n",
              "3  First thing I noticed after pouring from green...       1308532025  \n",
              "4  A: pours an amber with a one finger head but o...       1299912708  "
            ],
            "text/html": [
              "\n",
              "  <div id=\"df-77cb9f5a-1784-4abf-b2ab-b4265237cedd\" class=\"colab-df-container\">\n",
              "    <div>\n",
              "<style scoped>\n",
              "    .dataframe tbody tr th:only-of-type {\n",
              "        vertical-align: middle;\n",
              "    }\n",
              "\n",
              "    .dataframe tbody tr th {\n",
              "        vertical-align: top;\n",
              "    }\n",
              "\n",
              "    .dataframe thead th {\n",
              "        text-align: right;\n",
              "    }\n",
              "</style>\n",
              "<table border=\"1\" class=\"dataframe\">\n",
              "  <thead>\n",
              "    <tr style=\"text-align: right;\">\n",
              "      <th></th>\n",
              "      <th>index</th>\n",
              "      <th>beer/ABV</th>\n",
              "      <th>beer/beerId</th>\n",
              "      <th>beer/brewerId</th>\n",
              "      <th>beer/name</th>\n",
              "      <th>beer/style</th>\n",
              "      <th>review/appearance</th>\n",
              "      <th>review/aroma</th>\n",
              "      <th>review/overall</th>\n",
              "      <th>review/palate</th>\n",
              "      <th>review/taste</th>\n",
              "      <th>review/text</th>\n",
              "      <th>review/timeUnix</th>\n",
              "    </tr>\n",
              "  </thead>\n",
              "  <tbody>\n",
              "    <tr>\n",
              "      <th>0</th>\n",
              "      <td>40163</td>\n",
              "      <td>5.0</td>\n",
              "      <td>46634</td>\n",
              "      <td>14338</td>\n",
              "      <td>Chiostro</td>\n",
              "      <td>Herbed / Spiced Beer</td>\n",
              "      <td>4.0</td>\n",
              "      <td>4.0</td>\n",
              "      <td>4.0</td>\n",
              "      <td>4.0</td>\n",
              "      <td>4.0</td>\n",
              "      <td>Pours a clouded gold with a thin white head. N...</td>\n",
              "      <td>1229398690</td>\n",
              "    </tr>\n",
              "    <tr>\n",
              "      <th>1</th>\n",
              "      <td>8135</td>\n",
              "      <td>11.0</td>\n",
              "      <td>3003</td>\n",
              "      <td>395</td>\n",
              "      <td>Bearded Pat's Barleywine</td>\n",
              "      <td>American Barleywine</td>\n",
              "      <td>4.0</td>\n",
              "      <td>3.5</td>\n",
              "      <td>3.5</td>\n",
              "      <td>3.5</td>\n",
              "      <td>3.0</td>\n",
              "      <td>12oz bottle into 8oz snifter.\\t\\tDeep ruby red...</td>\n",
              "      <td>1218238738</td>\n",
              "    </tr>\n",
              "    <tr>\n",
              "      <th>2</th>\n",
              "      <td>10529</td>\n",
              "      <td>4.7</td>\n",
              "      <td>961</td>\n",
              "      <td>365</td>\n",
              "      <td>Naughty Nellie's Ale</td>\n",
              "      <td>American Pale Ale (APA)</td>\n",
              "      <td>3.5</td>\n",
              "      <td>4.0</td>\n",
              "      <td>3.5</td>\n",
              "      <td>3.5</td>\n",
              "      <td>3.5</td>\n",
              "      <td>First enjoyed at the brewpub about 2 years ago...</td>\n",
              "      <td>1101492422</td>\n",
              "    </tr>\n",
              "    <tr>\n",
              "      <th>3</th>\n",
              "      <td>44610</td>\n",
              "      <td>4.4</td>\n",
              "      <td>429</td>\n",
              "      <td>1</td>\n",
              "      <td>Pilsner Urquell</td>\n",
              "      <td>Czech Pilsener</td>\n",
              "      <td>3.0</td>\n",
              "      <td>3.0</td>\n",
              "      <td>2.5</td>\n",
              "      <td>3.0</td>\n",
              "      <td>3.0</td>\n",
              "      <td>First thing I noticed after pouring from green...</td>\n",
              "      <td>1308532025</td>\n",
              "    </tr>\n",
              "    <tr>\n",
              "      <th>4</th>\n",
              "      <td>37062</td>\n",
              "      <td>4.4</td>\n",
              "      <td>4904</td>\n",
              "      <td>1417</td>\n",
              "      <td>Black Sheep Ale (Special)</td>\n",
              "      <td>English Pale Ale</td>\n",
              "      <td>4.0</td>\n",
              "      <td>3.0</td>\n",
              "      <td>3.0</td>\n",
              "      <td>3.5</td>\n",
              "      <td>2.5</td>\n",
              "      <td>A: pours an amber with a one finger head but o...</td>\n",
              "      <td>1299912708</td>\n",
              "    </tr>\n",
              "  </tbody>\n",
              "</table>\n",
              "</div>\n",
              "    <div class=\"colab-df-buttons\">\n",
              "\n",
              "  <div class=\"colab-df-container\">\n",
              "    <button class=\"colab-df-convert\" onclick=\"convertToInteractive('df-77cb9f5a-1784-4abf-b2ab-b4265237cedd')\"\n",
              "            title=\"Convert this dataframe to an interactive table.\"\n",
              "            style=\"display:none;\">\n",
              "\n",
              "  <svg xmlns=\"http://www.w3.org/2000/svg\" height=\"24px\" viewBox=\"0 -960 960 960\">\n",
              "    <path d=\"M120-120v-720h720v720H120Zm60-500h600v-160H180v160Zm220 220h160v-160H400v160Zm0 220h160v-160H400v160ZM180-400h160v-160H180v160Zm440 0h160v-160H620v160ZM180-180h160v-160H180v160Zm440 0h160v-160H620v160Z\"/>\n",
              "  </svg>\n",
              "    </button>\n",
              "\n",
              "  <style>\n",
              "    .colab-df-container {\n",
              "      display:flex;\n",
              "      gap: 12px;\n",
              "    }\n",
              "\n",
              "    .colab-df-convert {\n",
              "      background-color: #E8F0FE;\n",
              "      border: none;\n",
              "      border-radius: 50%;\n",
              "      cursor: pointer;\n",
              "      display: none;\n",
              "      fill: #1967D2;\n",
              "      height: 32px;\n",
              "      padding: 0 0 0 0;\n",
              "      width: 32px;\n",
              "    }\n",
              "\n",
              "    .colab-df-convert:hover {\n",
              "      background-color: #E2EBFA;\n",
              "      box-shadow: 0px 1px 2px rgba(60, 64, 67, 0.3), 0px 1px 3px 1px rgba(60, 64, 67, 0.15);\n",
              "      fill: #174EA6;\n",
              "    }\n",
              "\n",
              "    .colab-df-buttons div {\n",
              "      margin-bottom: 4px;\n",
              "    }\n",
              "\n",
              "    [theme=dark] .colab-df-convert {\n",
              "      background-color: #3B4455;\n",
              "      fill: #D2E3FC;\n",
              "    }\n",
              "\n",
              "    [theme=dark] .colab-df-convert:hover {\n",
              "      background-color: #434B5C;\n",
              "      box-shadow: 0px 1px 3px 1px rgba(0, 0, 0, 0.15);\n",
              "      filter: drop-shadow(0px 1px 2px rgba(0, 0, 0, 0.3));\n",
              "      fill: #FFFFFF;\n",
              "    }\n",
              "  </style>\n",
              "\n",
              "    <script>\n",
              "      const buttonEl =\n",
              "        document.querySelector('#df-77cb9f5a-1784-4abf-b2ab-b4265237cedd button.colab-df-convert');\n",
              "      buttonEl.style.display =\n",
              "        google.colab.kernel.accessAllowed ? 'block' : 'none';\n",
              "\n",
              "      async function convertToInteractive(key) {\n",
              "        const element = document.querySelector('#df-77cb9f5a-1784-4abf-b2ab-b4265237cedd');\n",
              "        const dataTable =\n",
              "          await google.colab.kernel.invokeFunction('convertToInteractive',\n",
              "                                                    [key], {});\n",
              "        if (!dataTable) return;\n",
              "\n",
              "        const docLinkHtml = 'Like what you see? Visit the ' +\n",
              "          '<a target=\"_blank\" href=https://colab.research.google.com/notebooks/data_table.ipynb>data table notebook</a>'\n",
              "          + ' to learn more about interactive tables.';\n",
              "        element.innerHTML = '';\n",
              "        dataTable['output_type'] = 'display_data';\n",
              "        await google.colab.output.renderOutput(dataTable, element);\n",
              "        const docLink = document.createElement('div');\n",
              "        docLink.innerHTML = docLinkHtml;\n",
              "        element.appendChild(docLink);\n",
              "      }\n",
              "    </script>\n",
              "  </div>\n",
              "\n",
              "\n",
              "<div id=\"df-0e5b5783-22c8-4035-8df0-12d6d284237a\">\n",
              "  <button class=\"colab-df-quickchart\" onclick=\"quickchart('df-0e5b5783-22c8-4035-8df0-12d6d284237a')\"\n",
              "            title=\"Suggest charts.\"\n",
              "            style=\"display:none;\">\n",
              "\n",
              "<svg xmlns=\"http://www.w3.org/2000/svg\" height=\"24px\"viewBox=\"0 0 24 24\"\n",
              "     width=\"24px\">\n",
              "    <g>\n",
              "        <path d=\"M19 3H5c-1.1 0-2 .9-2 2v14c0 1.1.9 2 2 2h14c1.1 0 2-.9 2-2V5c0-1.1-.9-2-2-2zM9 17H7v-7h2v7zm4 0h-2V7h2v10zm4 0h-2v-4h2v4z\"/>\n",
              "    </g>\n",
              "</svg>\n",
              "  </button>\n",
              "\n",
              "<style>\n",
              "  .colab-df-quickchart {\n",
              "      --bg-color: #E8F0FE;\n",
              "      --fill-color: #1967D2;\n",
              "      --hover-bg-color: #E2EBFA;\n",
              "      --hover-fill-color: #174EA6;\n",
              "      --disabled-fill-color: #AAA;\n",
              "      --disabled-bg-color: #DDD;\n",
              "  }\n",
              "\n",
              "  [theme=dark] .colab-df-quickchart {\n",
              "      --bg-color: #3B4455;\n",
              "      --fill-color: #D2E3FC;\n",
              "      --hover-bg-color: #434B5C;\n",
              "      --hover-fill-color: #FFFFFF;\n",
              "      --disabled-bg-color: #3B4455;\n",
              "      --disabled-fill-color: #666;\n",
              "  }\n",
              "\n",
              "  .colab-df-quickchart {\n",
              "    background-color: var(--bg-color);\n",
              "    border: none;\n",
              "    border-radius: 50%;\n",
              "    cursor: pointer;\n",
              "    display: none;\n",
              "    fill: var(--fill-color);\n",
              "    height: 32px;\n",
              "    padding: 0;\n",
              "    width: 32px;\n",
              "  }\n",
              "\n",
              "  .colab-df-quickchart:hover {\n",
              "    background-color: var(--hover-bg-color);\n",
              "    box-shadow: 0 1px 2px rgba(60, 64, 67, 0.3), 0 1px 3px 1px rgba(60, 64, 67, 0.15);\n",
              "    fill: var(--button-hover-fill-color);\n",
              "  }\n",
              "\n",
              "  .colab-df-quickchart-complete:disabled,\n",
              "  .colab-df-quickchart-complete:disabled:hover {\n",
              "    background-color: var(--disabled-bg-color);\n",
              "    fill: var(--disabled-fill-color);\n",
              "    box-shadow: none;\n",
              "  }\n",
              "\n",
              "  .colab-df-spinner {\n",
              "    border: 2px solid var(--fill-color);\n",
              "    border-color: transparent;\n",
              "    border-bottom-color: var(--fill-color);\n",
              "    animation:\n",
              "      spin 1s steps(1) infinite;\n",
              "  }\n",
              "\n",
              "  @keyframes spin {\n",
              "    0% {\n",
              "      border-color: transparent;\n",
              "      border-bottom-color: var(--fill-color);\n",
              "      border-left-color: var(--fill-color);\n",
              "    }\n",
              "    20% {\n",
              "      border-color: transparent;\n",
              "      border-left-color: var(--fill-color);\n",
              "      border-top-color: var(--fill-color);\n",
              "    }\n",
              "    30% {\n",
              "      border-color: transparent;\n",
              "      border-left-color: var(--fill-color);\n",
              "      border-top-color: var(--fill-color);\n",
              "      border-right-color: var(--fill-color);\n",
              "    }\n",
              "    40% {\n",
              "      border-color: transparent;\n",
              "      border-right-color: var(--fill-color);\n",
              "      border-top-color: var(--fill-color);\n",
              "    }\n",
              "    60% {\n",
              "      border-color: transparent;\n",
              "      border-right-color: var(--fill-color);\n",
              "    }\n",
              "    80% {\n",
              "      border-color: transparent;\n",
              "      border-right-color: var(--fill-color);\n",
              "      border-bottom-color: var(--fill-color);\n",
              "    }\n",
              "    90% {\n",
              "      border-color: transparent;\n",
              "      border-bottom-color: var(--fill-color);\n",
              "    }\n",
              "  }\n",
              "</style>\n",
              "\n",
              "  <script>\n",
              "    async function quickchart(key) {\n",
              "      const quickchartButtonEl =\n",
              "        document.querySelector('#' + key + ' button');\n",
              "      quickchartButtonEl.disabled = true;  // To prevent multiple clicks.\n",
              "      quickchartButtonEl.classList.add('colab-df-spinner');\n",
              "      try {\n",
              "        const charts = await google.colab.kernel.invokeFunction(\n",
              "            'suggestCharts', [key], {});\n",
              "      } catch (error) {\n",
              "        console.error('Error during call to suggestCharts:', error);\n",
              "      }\n",
              "      quickchartButtonEl.classList.remove('colab-df-spinner');\n",
              "      quickchartButtonEl.classList.add('colab-df-quickchart-complete');\n",
              "    }\n",
              "    (() => {\n",
              "      let quickchartButtonEl =\n",
              "        document.querySelector('#df-0e5b5783-22c8-4035-8df0-12d6d284237a button');\n",
              "      quickchartButtonEl.style.display =\n",
              "        google.colab.kernel.accessAllowed ? 'block' : 'none';\n",
              "    })();\n",
              "  </script>\n",
              "</div>\n",
              "    </div>\n",
              "  </div>\n"
            ]
          },
          "metadata": {},
          "execution_count": 6
        }
      ]
    },
    {
      "cell_type": "code",
      "source": [
        "data.info()"
      ],
      "metadata": {
        "colab": {
          "base_uri": "https://localhost:8080/"
        },
        "id": "iqoam9pWtb5V",
        "outputId": "28d3d51f-0f7e-43b3-b768-171baedaa6c2"
      },
      "execution_count": null,
      "outputs": [
        {
          "output_type": "stream",
          "name": "stdout",
          "text": [
            "<class 'pandas.core.frame.DataFrame'>\n",
            "RangeIndex: 37500 entries, 0 to 37499\n",
            "Data columns (total 13 columns):\n",
            " #   Column             Non-Null Count  Dtype  \n",
            "---  ------             --------------  -----  \n",
            " 0   index              37500 non-null  int64  \n",
            " 1   beer/ABV           37500 non-null  float64\n",
            " 2   beer/beerId        37500 non-null  int64  \n",
            " 3   beer/brewerId      37500 non-null  int64  \n",
            " 4   beer/name          37500 non-null  object \n",
            " 5   beer/style         37500 non-null  object \n",
            " 6   review/appearance  37500 non-null  float64\n",
            " 7   review/aroma       37500 non-null  float64\n",
            " 8   review/overall     37500 non-null  float64\n",
            " 9   review/palate      37500 non-null  float64\n",
            " 10  review/taste       37500 non-null  float64\n",
            " 11  review/text        37490 non-null  object \n",
            " 12  review/timeUnix    37500 non-null  int64  \n",
            "dtypes: float64(6), int64(4), object(3)\n",
            "memory usage: 3.7+ MB\n"
          ]
        }
      ]
    },
    {
      "cell_type": "code",
      "source": [
        "data.dropna(subset=['review/text'], inplace=True)"
      ],
      "metadata": {
        "id": "tFt5-nZtmp1b"
      },
      "execution_count": 7,
      "outputs": []
    },
    {
      "cell_type": "code",
      "source": [
        "data.describe()"
      ],
      "metadata": {
        "colab": {
          "base_uri": "https://localhost:8080/",
          "height": 320
        },
        "id": "4UDS6hG8tQB6",
        "outputId": "592bfd44-0301-491b-c4bd-fc001910271e"
      },
      "execution_count": null,
      "outputs": [
        {
          "output_type": "execute_result",
          "data": {
            "text/plain": [
              "              index      beer/ABV   beer/beerId  beer/brewerId  \\\n",
              "count  37490.000000  37490.000000  37490.000000   37490.000000   \n",
              "mean   24951.998453      7.403336  21861.062497    3036.404268   \n",
              "std    14434.402610      2.318013  18924.136376    5122.945144   \n",
              "min        0.000000      0.100000    175.000000       1.000000   \n",
              "25%    12421.500000      5.400000   5441.000000     395.000000   \n",
              "50%    24942.500000      6.900000  17538.000000    1199.000000   \n",
              "75%    37418.250000      9.400000  34146.000000    1315.000000   \n",
              "max    49999.000000     57.700000  77207.000000   27797.000000   \n",
              "\n",
              "       review/appearance  review/aroma  review/overall  review/palate  \\\n",
              "count       37490.000000  37490.000000    37490.000000   37490.000000   \n",
              "mean            3.899947      3.873126        3.889264       3.854695   \n",
              "std             0.588705      0.680791        0.700417       0.667994   \n",
              "min             0.000000      1.000000        0.000000       1.000000   \n",
              "25%             3.500000      3.500000        3.500000       3.500000   \n",
              "50%             4.000000      4.000000        4.000000       4.000000   \n",
              "75%             4.500000      4.500000        4.500000       4.500000   \n",
              "max             5.000000      5.000000        5.000000       5.000000   \n",
              "\n",
              "       review/taste  review/timeUnix  \n",
              "count  37490.000000     3.749000e+04  \n",
              "mean       3.922273     1.232786e+09  \n",
              "std        0.716485     7.191497e+07  \n",
              "min        1.000000     9.262944e+08  \n",
              "25%        3.500000     1.189180e+09  \n",
              "50%        4.000000     1.248150e+09  \n",
              "75%        4.500000     1.291328e+09  \n",
              "max        5.000000     1.326267e+09  "
            ],
            "text/html": [
              "\n",
              "  <div id=\"df-b6adae85-b7d0-44d8-b9fc-eaf3d29ec6be\" class=\"colab-df-container\">\n",
              "    <div>\n",
              "<style scoped>\n",
              "    .dataframe tbody tr th:only-of-type {\n",
              "        vertical-align: middle;\n",
              "    }\n",
              "\n",
              "    .dataframe tbody tr th {\n",
              "        vertical-align: top;\n",
              "    }\n",
              "\n",
              "    .dataframe thead th {\n",
              "        text-align: right;\n",
              "    }\n",
              "</style>\n",
              "<table border=\"1\" class=\"dataframe\">\n",
              "  <thead>\n",
              "    <tr style=\"text-align: right;\">\n",
              "      <th></th>\n",
              "      <th>index</th>\n",
              "      <th>beer/ABV</th>\n",
              "      <th>beer/beerId</th>\n",
              "      <th>beer/brewerId</th>\n",
              "      <th>review/appearance</th>\n",
              "      <th>review/aroma</th>\n",
              "      <th>review/overall</th>\n",
              "      <th>review/palate</th>\n",
              "      <th>review/taste</th>\n",
              "      <th>review/timeUnix</th>\n",
              "    </tr>\n",
              "  </thead>\n",
              "  <tbody>\n",
              "    <tr>\n",
              "      <th>count</th>\n",
              "      <td>37490.000000</td>\n",
              "      <td>37490.000000</td>\n",
              "      <td>37490.000000</td>\n",
              "      <td>37490.000000</td>\n",
              "      <td>37490.000000</td>\n",
              "      <td>37490.000000</td>\n",
              "      <td>37490.000000</td>\n",
              "      <td>37490.000000</td>\n",
              "      <td>37490.000000</td>\n",
              "      <td>3.749000e+04</td>\n",
              "    </tr>\n",
              "    <tr>\n",
              "      <th>mean</th>\n",
              "      <td>24951.998453</td>\n",
              "      <td>7.403336</td>\n",
              "      <td>21861.062497</td>\n",
              "      <td>3036.404268</td>\n",
              "      <td>3.899947</td>\n",
              "      <td>3.873126</td>\n",
              "      <td>3.889264</td>\n",
              "      <td>3.854695</td>\n",
              "      <td>3.922273</td>\n",
              "      <td>1.232786e+09</td>\n",
              "    </tr>\n",
              "    <tr>\n",
              "      <th>std</th>\n",
              "      <td>14434.402610</td>\n",
              "      <td>2.318013</td>\n",
              "      <td>18924.136376</td>\n",
              "      <td>5122.945144</td>\n",
              "      <td>0.588705</td>\n",
              "      <td>0.680791</td>\n",
              "      <td>0.700417</td>\n",
              "      <td>0.667994</td>\n",
              "      <td>0.716485</td>\n",
              "      <td>7.191497e+07</td>\n",
              "    </tr>\n",
              "    <tr>\n",
              "      <th>min</th>\n",
              "      <td>0.000000</td>\n",
              "      <td>0.100000</td>\n",
              "      <td>175.000000</td>\n",
              "      <td>1.000000</td>\n",
              "      <td>0.000000</td>\n",
              "      <td>1.000000</td>\n",
              "      <td>0.000000</td>\n",
              "      <td>1.000000</td>\n",
              "      <td>1.000000</td>\n",
              "      <td>9.262944e+08</td>\n",
              "    </tr>\n",
              "    <tr>\n",
              "      <th>25%</th>\n",
              "      <td>12421.500000</td>\n",
              "      <td>5.400000</td>\n",
              "      <td>5441.000000</td>\n",
              "      <td>395.000000</td>\n",
              "      <td>3.500000</td>\n",
              "      <td>3.500000</td>\n",
              "      <td>3.500000</td>\n",
              "      <td>3.500000</td>\n",
              "      <td>3.500000</td>\n",
              "      <td>1.189180e+09</td>\n",
              "    </tr>\n",
              "    <tr>\n",
              "      <th>50%</th>\n",
              "      <td>24942.500000</td>\n",
              "      <td>6.900000</td>\n",
              "      <td>17538.000000</td>\n",
              "      <td>1199.000000</td>\n",
              "      <td>4.000000</td>\n",
              "      <td>4.000000</td>\n",
              "      <td>4.000000</td>\n",
              "      <td>4.000000</td>\n",
              "      <td>4.000000</td>\n",
              "      <td>1.248150e+09</td>\n",
              "    </tr>\n",
              "    <tr>\n",
              "      <th>75%</th>\n",
              "      <td>37418.250000</td>\n",
              "      <td>9.400000</td>\n",
              "      <td>34146.000000</td>\n",
              "      <td>1315.000000</td>\n",
              "      <td>4.500000</td>\n",
              "      <td>4.500000</td>\n",
              "      <td>4.500000</td>\n",
              "      <td>4.500000</td>\n",
              "      <td>4.500000</td>\n",
              "      <td>1.291328e+09</td>\n",
              "    </tr>\n",
              "    <tr>\n",
              "      <th>max</th>\n",
              "      <td>49999.000000</td>\n",
              "      <td>57.700000</td>\n",
              "      <td>77207.000000</td>\n",
              "      <td>27797.000000</td>\n",
              "      <td>5.000000</td>\n",
              "      <td>5.000000</td>\n",
              "      <td>5.000000</td>\n",
              "      <td>5.000000</td>\n",
              "      <td>5.000000</td>\n",
              "      <td>1.326267e+09</td>\n",
              "    </tr>\n",
              "  </tbody>\n",
              "</table>\n",
              "</div>\n",
              "    <div class=\"colab-df-buttons\">\n",
              "\n",
              "  <div class=\"colab-df-container\">\n",
              "    <button class=\"colab-df-convert\" onclick=\"convertToInteractive('df-b6adae85-b7d0-44d8-b9fc-eaf3d29ec6be')\"\n",
              "            title=\"Convert this dataframe to an interactive table.\"\n",
              "            style=\"display:none;\">\n",
              "\n",
              "  <svg xmlns=\"http://www.w3.org/2000/svg\" height=\"24px\" viewBox=\"0 -960 960 960\">\n",
              "    <path d=\"M120-120v-720h720v720H120Zm60-500h600v-160H180v160Zm220 220h160v-160H400v160Zm0 220h160v-160H400v160ZM180-400h160v-160H180v160Zm440 0h160v-160H620v160ZM180-180h160v-160H180v160Zm440 0h160v-160H620v160Z\"/>\n",
              "  </svg>\n",
              "    </button>\n",
              "\n",
              "  <style>\n",
              "    .colab-df-container {\n",
              "      display:flex;\n",
              "      gap: 12px;\n",
              "    }\n",
              "\n",
              "    .colab-df-convert {\n",
              "      background-color: #E8F0FE;\n",
              "      border: none;\n",
              "      border-radius: 50%;\n",
              "      cursor: pointer;\n",
              "      display: none;\n",
              "      fill: #1967D2;\n",
              "      height: 32px;\n",
              "      padding: 0 0 0 0;\n",
              "      width: 32px;\n",
              "    }\n",
              "\n",
              "    .colab-df-convert:hover {\n",
              "      background-color: #E2EBFA;\n",
              "      box-shadow: 0px 1px 2px rgba(60, 64, 67, 0.3), 0px 1px 3px 1px rgba(60, 64, 67, 0.15);\n",
              "      fill: #174EA6;\n",
              "    }\n",
              "\n",
              "    .colab-df-buttons div {\n",
              "      margin-bottom: 4px;\n",
              "    }\n",
              "\n",
              "    [theme=dark] .colab-df-convert {\n",
              "      background-color: #3B4455;\n",
              "      fill: #D2E3FC;\n",
              "    }\n",
              "\n",
              "    [theme=dark] .colab-df-convert:hover {\n",
              "      background-color: #434B5C;\n",
              "      box-shadow: 0px 1px 3px 1px rgba(0, 0, 0, 0.15);\n",
              "      filter: drop-shadow(0px 1px 2px rgba(0, 0, 0, 0.3));\n",
              "      fill: #FFFFFF;\n",
              "    }\n",
              "  </style>\n",
              "\n",
              "    <script>\n",
              "      const buttonEl =\n",
              "        document.querySelector('#df-b6adae85-b7d0-44d8-b9fc-eaf3d29ec6be button.colab-df-convert');\n",
              "      buttonEl.style.display =\n",
              "        google.colab.kernel.accessAllowed ? 'block' : 'none';\n",
              "\n",
              "      async function convertToInteractive(key) {\n",
              "        const element = document.querySelector('#df-b6adae85-b7d0-44d8-b9fc-eaf3d29ec6be');\n",
              "        const dataTable =\n",
              "          await google.colab.kernel.invokeFunction('convertToInteractive',\n",
              "                                                    [key], {});\n",
              "        if (!dataTable) return;\n",
              "\n",
              "        const docLinkHtml = 'Like what you see? Visit the ' +\n",
              "          '<a target=\"_blank\" href=https://colab.research.google.com/notebooks/data_table.ipynb>data table notebook</a>'\n",
              "          + ' to learn more about interactive tables.';\n",
              "        element.innerHTML = '';\n",
              "        dataTable['output_type'] = 'display_data';\n",
              "        await google.colab.output.renderOutput(dataTable, element);\n",
              "        const docLink = document.createElement('div');\n",
              "        docLink.innerHTML = docLinkHtml;\n",
              "        element.appendChild(docLink);\n",
              "      }\n",
              "    </script>\n",
              "  </div>\n",
              "\n",
              "\n",
              "<div id=\"df-f7b37235-cf5e-4902-bdcb-63f9a8fc447b\">\n",
              "  <button class=\"colab-df-quickchart\" onclick=\"quickchart('df-f7b37235-cf5e-4902-bdcb-63f9a8fc447b')\"\n",
              "            title=\"Suggest charts.\"\n",
              "            style=\"display:none;\">\n",
              "\n",
              "<svg xmlns=\"http://www.w3.org/2000/svg\" height=\"24px\"viewBox=\"0 0 24 24\"\n",
              "     width=\"24px\">\n",
              "    <g>\n",
              "        <path d=\"M19 3H5c-1.1 0-2 .9-2 2v14c0 1.1.9 2 2 2h14c1.1 0 2-.9 2-2V5c0-1.1-.9-2-2-2zM9 17H7v-7h2v7zm4 0h-2V7h2v10zm4 0h-2v-4h2v4z\"/>\n",
              "    </g>\n",
              "</svg>\n",
              "  </button>\n",
              "\n",
              "<style>\n",
              "  .colab-df-quickchart {\n",
              "      --bg-color: #E8F0FE;\n",
              "      --fill-color: #1967D2;\n",
              "      --hover-bg-color: #E2EBFA;\n",
              "      --hover-fill-color: #174EA6;\n",
              "      --disabled-fill-color: #AAA;\n",
              "      --disabled-bg-color: #DDD;\n",
              "  }\n",
              "\n",
              "  [theme=dark] .colab-df-quickchart {\n",
              "      --bg-color: #3B4455;\n",
              "      --fill-color: #D2E3FC;\n",
              "      --hover-bg-color: #434B5C;\n",
              "      --hover-fill-color: #FFFFFF;\n",
              "      --disabled-bg-color: #3B4455;\n",
              "      --disabled-fill-color: #666;\n",
              "  }\n",
              "\n",
              "  .colab-df-quickchart {\n",
              "    background-color: var(--bg-color);\n",
              "    border: none;\n",
              "    border-radius: 50%;\n",
              "    cursor: pointer;\n",
              "    display: none;\n",
              "    fill: var(--fill-color);\n",
              "    height: 32px;\n",
              "    padding: 0;\n",
              "    width: 32px;\n",
              "  }\n",
              "\n",
              "  .colab-df-quickchart:hover {\n",
              "    background-color: var(--hover-bg-color);\n",
              "    box-shadow: 0 1px 2px rgba(60, 64, 67, 0.3), 0 1px 3px 1px rgba(60, 64, 67, 0.15);\n",
              "    fill: var(--button-hover-fill-color);\n",
              "  }\n",
              "\n",
              "  .colab-df-quickchart-complete:disabled,\n",
              "  .colab-df-quickchart-complete:disabled:hover {\n",
              "    background-color: var(--disabled-bg-color);\n",
              "    fill: var(--disabled-fill-color);\n",
              "    box-shadow: none;\n",
              "  }\n",
              "\n",
              "  .colab-df-spinner {\n",
              "    border: 2px solid var(--fill-color);\n",
              "    border-color: transparent;\n",
              "    border-bottom-color: var(--fill-color);\n",
              "    animation:\n",
              "      spin 1s steps(1) infinite;\n",
              "  }\n",
              "\n",
              "  @keyframes spin {\n",
              "    0% {\n",
              "      border-color: transparent;\n",
              "      border-bottom-color: var(--fill-color);\n",
              "      border-left-color: var(--fill-color);\n",
              "    }\n",
              "    20% {\n",
              "      border-color: transparent;\n",
              "      border-left-color: var(--fill-color);\n",
              "      border-top-color: var(--fill-color);\n",
              "    }\n",
              "    30% {\n",
              "      border-color: transparent;\n",
              "      border-left-color: var(--fill-color);\n",
              "      border-top-color: var(--fill-color);\n",
              "      border-right-color: var(--fill-color);\n",
              "    }\n",
              "    40% {\n",
              "      border-color: transparent;\n",
              "      border-right-color: var(--fill-color);\n",
              "      border-top-color: var(--fill-color);\n",
              "    }\n",
              "    60% {\n",
              "      border-color: transparent;\n",
              "      border-right-color: var(--fill-color);\n",
              "    }\n",
              "    80% {\n",
              "      border-color: transparent;\n",
              "      border-right-color: var(--fill-color);\n",
              "      border-bottom-color: var(--fill-color);\n",
              "    }\n",
              "    90% {\n",
              "      border-color: transparent;\n",
              "      border-bottom-color: var(--fill-color);\n",
              "    }\n",
              "  }\n",
              "</style>\n",
              "\n",
              "  <script>\n",
              "    async function quickchart(key) {\n",
              "      const quickchartButtonEl =\n",
              "        document.querySelector('#' + key + ' button');\n",
              "      quickchartButtonEl.disabled = true;  // To prevent multiple clicks.\n",
              "      quickchartButtonEl.classList.add('colab-df-spinner');\n",
              "      try {\n",
              "        const charts = await google.colab.kernel.invokeFunction(\n",
              "            'suggestCharts', [key], {});\n",
              "      } catch (error) {\n",
              "        console.error('Error during call to suggestCharts:', error);\n",
              "      }\n",
              "      quickchartButtonEl.classList.remove('colab-df-spinner');\n",
              "      quickchartButtonEl.classList.add('colab-df-quickchart-complete');\n",
              "    }\n",
              "    (() => {\n",
              "      let quickchartButtonEl =\n",
              "        document.querySelector('#df-f7b37235-cf5e-4902-bdcb-63f9a8fc447b button');\n",
              "      quickchartButtonEl.style.display =\n",
              "        google.colab.kernel.accessAllowed ? 'block' : 'none';\n",
              "    })();\n",
              "  </script>\n",
              "</div>\n",
              "    </div>\n",
              "  </div>\n"
            ]
          },
          "metadata": {},
          "execution_count": 7
        }
      ]
    },
    {
      "cell_type": "code",
      "source": [
        "data.columns"
      ],
      "metadata": {
        "colab": {
          "base_uri": "https://localhost:8080/"
        },
        "id": "U82YO7e8vmGt",
        "outputId": "dc01befb-a627-4fbd-b6e2-b56dc6403800"
      },
      "execution_count": null,
      "outputs": [
        {
          "output_type": "execute_result",
          "data": {
            "text/plain": [
              "Index(['index', 'beer/ABV', 'beer/beerId', 'beer/brewerId', 'beer/name',\n",
              "       'beer/style', 'review/appearance', 'review/aroma', 'review/overall',\n",
              "       'review/palate', 'review/taste', 'review/text', 'review/timeUnix'],\n",
              "      dtype='object')"
            ]
          },
          "metadata": {},
          "execution_count": 8
        }
      ]
    },
    {
      "cell_type": "code",
      "source": [
        "import seaborn as sns\n",
        "import matplotlib.pyplot as plt\n",
        "\n",
        "# Calculate the correlation matrix\n",
        "correlation_matrix = data.corr()\n",
        "\n",
        "# Create a heatmap of the correlation matrix\n",
        "plt.figure(figsize=(10, 8))\n",
        "sns.heatmap(correlation_matrix, annot=True, cmap='coolwarm', fmt=\".2f\")\n",
        "plt.title(\"Correlation Matrix Heatmap\")\n",
        "plt.show()"
      ],
      "metadata": {
        "colab": {
          "base_uri": "https://localhost:8080/",
          "height": 873
        },
        "id": "hyKHe_qoseqa",
        "outputId": "24697b43-6cb1-4f5d-ef20-6e64dbffef7b"
      },
      "execution_count": null,
      "outputs": [
        {
          "output_type": "stream",
          "name": "stderr",
          "text": [
            "<ipython-input-9-ba74ed272e50>:5: FutureWarning: The default value of numeric_only in DataFrame.corr is deprecated. In a future version, it will default to False. Select only valid columns or specify the value of numeric_only to silence this warning.\n",
            "  correlation_matrix = data.corr()\n"
          ]
        },
        {
          "output_type": "display_data",
          "data": {
            "text/plain": [
              "<Figure size 1000x800 with 2 Axes>"
            ],
            "image/png": "[encoded data removed]"
          },
          "metadata": {}
        }
      ]
    },
    {
      "cell_type": "code",
      "source": [
        "def evaluate_regression_models(X_train, X_test, y_train, y_test):\n",
        "    # Initialize a dictionary to store model names and their corresponding models\n",
        "    models = {\n",
        "        'Linear Regression': LinearRegression(),\n",
        "        'Ridge Regression': Ridge(),\n",
        "        'Lasso Regression': Lasso(),\n",
        "        'ElasticNet Regression': ElasticNet(),\n",
        "        'Decision Tree Regressor': DecisionTreeRegressor(),\n",
        "        # 'Random Forest Regressor': RandomForestRegressor(),\n",
        "        # 'Gradient Boosting Regressor': GradientBoostingRegressor(),\n",
        "        # 'K-Nearest Neighbors Regressor': KNeighborsRegressor(),\n",
        "        # 'Support Vector Regressor': SVR()\n",
        "    }\n",
        "\n",
        "    # Initialize a dictionary to store model MSE results\n",
        "    model_results = {}\n",
        "\n",
        "    for model_name, model in models.items():\n",
        "        # Train the model\n",
        "        model.fit(X_train, y_train)\n",
        "\n",
        "        # Make predictions\n",
        "        y_pred = model.predict(X_test)\n",
        "\n",
        "        # Calculate Mean Squared Error (MSE)\n",
        "        mse = mean_squared_error(y_test, y_pred)\n",
        "        # Calculate Root Mean Squared Error (RMSE)\n",
        "        rmse = np.sqrt(mse)\n",
        "        # Calculate R-squared (R²)\n",
        "        r2 = r2_score(y_test, y_pred)\n",
        "        # Store results in a dictionary\n",
        "        model_results[model_name] = {'MSE': mse, 'RMSE': rmse, 'R²': r2}\n",
        "\n",
        "        print(f\"{model_name} - MSE: {mse},    RMSE: {rmse},    R²: {r2}\")\n",
        "\n",
        "    return model_results"
      ],
      "metadata": {
        "id": "zTEK6HxVmE4P"
      },
      "execution_count": 23,
      "outputs": []
    },
    {
      "cell_type": "markdown",
      "source": [
        "Method 1"
      ],
      "metadata": {
        "id": "UeZkiBq5vZqI"
      }
    },
    {
      "cell_type": "code",
      "source": [
        "X1 = data[['beer/ABV', 'review/appearance', 'review/aroma', 'review/palate', 'review/taste']]\n",
        "y1 = data['review/overall']\n",
        "X1_train, X1_test, y1_train, y1_test = train_test_split(X1, y1, test_size=0.2, random_state=42)"
      ],
      "metadata": {
        "id": "HSW-dX11dnUR"
      },
      "execution_count": 14,
      "outputs": []
    },
    {
      "cell_type": "code",
      "source": [
        "method1_mse_results = evaluate_regression_models(X1_train, X1_test, y1_train, y1_test)"
      ],
      "metadata": {
        "colab": {
          "base_uri": "https://localhost:8080/"
        },
        "id": "2Z7Qed7TmQlA",
        "outputId": "5f2d56e9-79d1-4d5e-d042-4da217baf1da"
      },
      "execution_count": 15,
      "outputs": [
        {
          "output_type": "stream",
          "name": "stdout",
          "text": [
            "Linear Regression - MSE: 0.1613026269974113,    RMSE: 0.4016249830344364,    R²: 0.6801080491962365\n",
            "Ridge Regression - MSE: 0.16130297346651606,    RMSE: 0.4016254143683092,    R²: 0.6801073620860518\n",
            "Lasso Regression - MSE: 0.5043591156628163,    RMSE: 0.7101824523760188,    R²: -0.0002343075145865292\n",
            "ElasticNet Regression - MSE: 0.5043591156628163,    RMSE: 0.7101824523760188,    R²: -0.0002343075145865292\n",
            "Decision Tree Regressor - MSE: 0.23163818949895573,    RMSE: 0.4812880525204794,    R²: 0.5406200525137015\n",
            "Random Forest Regressor - MSE: 0.1839248125959691,    RMSE: 0.42886456206589174,    R²: 0.635244210229227\n",
            "Gradient Boosting Regressor - MSE: 0.15715574490940978,    RMSE: 0.3964287387531456,    R²: 0.6883320578536112\n",
            "K-Nearest Neighbors Regressor - MSE: 0.1892971459055748,    RMSE: 0.43508291842541325,    R²: 0.624589912684492\n",
            "Support Vector Regressor - MSE: 0.1581783839485126,    RMSE: 0.39771646175197806,    R²: 0.6863039817876712\n"
          ]
        }
      ]
    },
    {
      "cell_type": "markdown",
      "source": [
        "Method 2"
      ],
      "metadata": {
        "id": "VIstmtire0WE"
      }
    },
    {
      "cell_type": "code",
      "source": [
        "from sklearn.preprocessing import LabelEncoder"
      ],
      "metadata": {
        "id": "yx9gVWUCe3O-"
      },
      "execution_count": 16,
      "outputs": []
    },
    {
      "cell_type": "code",
      "source": [
        "selected_features = data[['beer/ABV', 'beer/name', 'beer/style', 'review/appearance', 'review/aroma', 'review/palate', 'review/taste', 'review/overall']]\n",
        "# Handle categorical features: Encode 'beer/name' and 'beer/style'\n",
        "label_encoder = LabelEncoder()\n",
        "selected_features['beer/name'] = label_encoder.fit_transform(selected_features['beer/name'].astype(str))  # Convert to string first\n",
        "selected_features['beer/style'] = label_encoder.fit_transform(selected_features['beer/style'].astype(str))  # Convert to string first"
      ],
      "metadata": {
        "id": "Jol5dLKUvDqA"
      },
      "execution_count": null,
      "outputs": []
    },
    {
      "cell_type": "code",
      "source": [
        "# Split the data into input features (X) and the target variable (y)\n",
        "X2 = selected_features.drop(columns=['review/overall'])\n",
        "y2 = selected_features['review/overall']"
      ],
      "metadata": {
        "id": "3Ip6SA_vfTXS"
      },
      "execution_count": 18,
      "outputs": []
    },
    {
      "cell_type": "code",
      "source": [
        "X2_train, X2_test, y2_train, y2_test = train_test_split(X2, y2, test_size=0.2, random_state=42)"
      ],
      "metadata": {
        "id": "mg47TzdIiePl"
      },
      "execution_count": 19,
      "outputs": []
    },
    {
      "cell_type": "code",
      "source": [
        "method2_mse_results = evaluate_regression_models(X2_train, X2_test, y2_train, y2_test)"
      ],
      "metadata": {
        "colab": {
          "base_uri": "https://localhost:8080/"
        },
        "id": "_76WA8A_m_s4",
        "outputId": "283e0135-21ea-4c00-9243-3655fe899772"
      },
      "execution_count": 20,
      "outputs": [
        {
          "output_type": "stream",
          "name": "stdout",
          "text": [
            "Linear Regression - MSE: 0.16038062138040374,    RMSE: 0.4004754941071972,    R²: 0.6819365511925575\n",
            "Ridge Regression - MSE: 0.16038095677044906,    RMSE: 0.4004759128467642,    R²: 0.6819358860541287\n",
            "Lasso Regression - MSE: 0.4989176053861192,    RMSE: 0.7063409979507909,    R²: 0.010557180324971882\n",
            "ElasticNet Regression - MSE: 0.49798252536502224,    RMSE: 0.7056787692463351,    R²: 0.01241161120235068\n",
            "Decision Tree Regressor - MSE: 0.2590463635279471,    RMSE: 0.508965974823413,    R²: 0.4862647427378488\n",
            "Random Forest Regressor - MSE: 0.18420717507612813,    RMSE: 0.42919363354566215,    R²: 0.634684234943683\n",
            "Gradient Boosting Regressor - MSE: 0.15498231829783524,    RMSE: 0.3936779372759353,    R²: 0.6926423514405627\n",
            "K-Nearest Neighbors Regressor - MSE: 0.2255748199519872,    RMSE: 0.4749471759595873,    R²: 0.5526447984767975\n",
            "Support Vector Regressor - MSE: 0.4536387183254697,    RMSE: 0.673527073194144,    R²: 0.10035330938793441\n"
          ]
        }
      ]
    },
    {
      "cell_type": "markdown",
      "source": [
        "Method 3"
      ],
      "metadata": {
        "id": "Hk6cOqkMjwCN"
      }
    },
    {
      "cell_type": "code",
      "source": [
        "from sklearn.feature_extraction.text import TfidfVectorizer"
      ],
      "metadata": {
        "id": "14M7w6R8jx6T"
      },
      "execution_count": 21,
      "outputs": []
    },
    {
      "cell_type": "code",
      "source": [
        "selected_features_3 = data[['review/text', 'review/overall']]\n",
        "\n",
        "# Split the data into input features (X) and the target variable (y)\n",
        "X3 = selected_features_3['review/text']\n",
        "y3 = selected_features_3['review/overall']\n",
        "\n",
        "# Text processing: Convert text to TF-IDF vectors\n",
        "tfidf_vectorizer = TfidfVectorizer(max_features=1000)  # You can adjust the number of features as needed\n",
        "X_text_tfidf = tfidf_vectorizer.fit_transform(X3)\n",
        "\n",
        "X_train_text, X_test_text, y_train, y_test = train_test_split(X_text_tfidf, y3, test_size=0.2, random_state=42)"
      ],
      "metadata": {
        "id": "9oE0PfY0kU4w"
      },
      "execution_count": 22,
      "outputs": []
    },
    {
      "cell_type": "code",
      "source": [
        "method3_mse_results = evaluate_regression_models(X_train_text, X_test_text, y_train, y_test)"
      ],
      "metadata": {
        "colab": {
          "base_uri": "https://localhost:8080/"
        },
        "id": "LoJKLoOnnX3E",
        "outputId": "f5e89284-c9cd-4309-edef-95712c148877"
      },
      "execution_count": 24,
      "outputs": [
        {
          "output_type": "stream",
          "name": "stdout",
          "text": [
            "Linear Regression - MSE: 0.3127237056861213,    RMSE: 0.559217047027468,    R²: 0.37981297554366045\n",
            "Ridge Regression - MSE: 0.3117623840437382,    RMSE: 0.5583568608369903,    R²: 0.3817194482481424\n",
            "Lasso Regression - MSE: 0.5043591156628163,    RMSE: 0.7101824523760188,    R²: -0.0002343075145865292\n",
            "ElasticNet Regression - MSE: 0.5043591156628163,    RMSE: 0.7101824523760188,    R²: -0.0002343075145865292\n",
            "Decision Tree Regressor - MSE: 0.7047129234462524,    RMSE: 0.839471812180881,    R²: -0.3975717323032988\n"
          ]
        }
      ]
    },
    {
      "cell_type": "markdown",
      "source": [
        "Method 4"
      ],
      "metadata": {
        "id": "pM3laPexwBL_"
      }
    },
    {
      "cell_type": "code",
      "source": [
        "X1_combined_train = pd.concat([X1,pd.DataFrame(X_text_tfidf.toarray(), index=X1.index)], axis=1)"
      ],
      "metadata": {
        "id": "_2yQfjcg5Y-j"
      },
      "execution_count": 25,
      "outputs": []
    },
    {
      "cell_type": "code",
      "source": [
        "X1_combined_train.columns = X1_combined_train.columns.astype(str)"
      ],
      "metadata": {
        "id": "fBJRcV6tZ_Cr"
      },
      "execution_count": 26,
      "outputs": []
    },
    {
      "cell_type": "code",
      "source": [
        "X1_combined_train.head()"
      ],
      "metadata": {
        "colab": {
          "base_uri": "https://localhost:8080/",
          "height": 256
        },
        "id": "mZy45ip_Y7Yy",
        "outputId": "3098f3ba-c01d-42ca-83d5-25d307de8b0d"
      },
      "execution_count": 27,
      "outputs": [
        {
          "output_type": "execute_result",
          "data": {
            "text/plain": [
              "   beer/ABV  review/appearance  review/aroma  review/palate  review/taste  \\\n",
              "0       5.0                4.0           4.0            4.0           4.0   \n",
              "1      11.0                4.0           3.5            3.5           3.0   \n",
              "2       4.7                3.5           4.0            3.5           3.5   \n",
              "3       4.4                3.0           3.0            3.0           3.0   \n",
              "4       4.4                4.0           3.0            3.5           2.5   \n",
              "\n",
              "     0         1    2    3         4  ...  990      991  992  993  994  995  \\\n",
              "0  0.0  0.000000  0.0  0.0  0.000000  ...  0.0  0.00000  0.0  0.0  0.0  0.0   \n",
              "1  0.0  0.000000  0.0  0.0  0.116465  ...  0.0  0.00000  0.0  0.0  0.0  0.0   \n",
              "2  0.0  0.000000  0.0  0.0  0.000000  ...  0.0  0.18468  0.0  0.0  0.0  0.0   \n",
              "3  0.0  0.161012  0.0  0.0  0.000000  ...  0.0  0.00000  0.0  0.0  0.0  0.0   \n",
              "4  0.0  0.000000  0.0  0.0  0.000000  ...  0.0  0.00000  0.0  0.0  0.0  0.0   \n",
              "\n",
              "   996  997  998  999  \n",
              "0  0.0  0.0  0.0  0.0  \n",
              "1  0.0  0.0  0.0  0.0  \n",
              "2  0.0  0.0  0.0  0.0  \n",
              "3  0.0  0.0  0.0  0.0  \n",
              "4  0.0  0.0  0.0  0.0  \n",
              "\n",
              "[5 rows x 1005 columns]"
            ],
            "text/html": [
              "\n",
              "  <div id=\"df-5dd09d3d-0989-4fbe-ba4e-963f7eecb538\" class=\"colab-df-container\">\n",
              "    <div>\n",
              "<style scoped>\n",
              "    .dataframe tbody tr th:only-of-type {\n",
              "        vertical-align: middle;\n",
              "    }\n",
              "\n",
              "    .dataframe tbody tr th {\n",
              "        vertical-align: top;\n",
              "    }\n",
              "\n",
              "    .dataframe thead th {\n",
              "        text-align: right;\n",
              "    }\n",
              "</style>\n",
              "<table border=\"1\" class=\"dataframe\">\n",
              "  <thead>\n",
              "    <tr style=\"text-align: right;\">\n",
              "      <th></th>\n",
              "      <th>beer/ABV</th>\n",
              "      <th>review/appearance</th>\n",
              "      <th>review/aroma</th>\n",
              "      <th>review/palate</th>\n",
              "      <th>review/taste</th>\n",
              "      <th>0</th>\n",
              "      <th>1</th>\n",
              "      <th>2</th>\n",
              "      <th>3</th>\n",
              "      <th>4</th>\n",
              "      <th>...</th>\n",
              "      <th>990</th>\n",
              "      <th>991</th>\n",
              "      <th>992</th>\n",
              "      <th>993</th>\n",
              "      <th>994</th>\n",
              "      <th>995</th>\n",
              "      <th>996</th>\n",
              "      <th>997</th>\n",
              "      <th>998</th>\n",
              "      <th>999</th>\n",
              "    </tr>\n",
              "  </thead>\n",
              "  <tbody>\n",
              "    <tr>\n",
              "      <th>0</th>\n",
              "      <td>5.0</td>\n",
              "      <td>4.0</td>\n",
              "      <td>4.0</td>\n",
              "      <td>4.0</td>\n",
              "      <td>4.0</td>\n",
              "      <td>0.0</td>\n",
              "      <td>0.000000</td>\n",
              "      <td>0.0</td>\n",
              "      <td>0.0</td>\n",
              "      <td>0.000000</td>\n",
              "      <td>...</td>\n",
              "      <td>0.0</td>\n",
              "      <td>0.00000</td>\n",
              "      <td>0.0</td>\n",
              "      <td>0.0</td>\n",
              "      <td>0.0</td>\n",
              "      <td>0.0</td>\n",
              "      <td>0.0</td>\n",
              "      <td>0.0</td>\n",
              "      <td>0.0</td>\n",
              "      <td>0.0</td>\n",
              "    </tr>\n",
              "    <tr>\n",
              "      <th>1</th>\n",
              "      <td>11.0</td>\n",
              "      <td>4.0</td>\n",
              "      <td>3.5</td>\n",
              "      <td>3.5</td>\n",
              "      <td>3.0</td>\n",
              "      <td>0.0</td>\n",
              "      <td>0.000000</td>\n",
              "      <td>0.0</td>\n",
              "      <td>0.0</td>\n",
              "      <td>0.116465</td>\n",
              "      <td>...</td>\n",
              "      <td>0.0</td>\n",
              "      <td>0.00000</td>\n",
              "      <td>0.0</td>\n",
              "      <td>0.0</td>\n",
              "      <td>0.0</td>\n",
              "      <td>0.0</td>\n",
              "      <td>0.0</td>\n",
              "      <td>0.0</td>\n",
              "      <td>0.0</td>\n",
              "      <td>0.0</td>\n",
              "    </tr>\n",
              "    <tr>\n",
              "      <th>2</th>\n",
              "      <td>4.7</td>\n",
              "      <td>3.5</td>\n",
              "      <td>4.0</td>\n",
              "      <td>3.5</td>\n",
              "      <td>3.5</td>\n",
              "      <td>0.0</td>\n",
              "      <td>0.000000</td>\n",
              "      <td>0.0</td>\n",
              "      <td>0.0</td>\n",
              "      <td>0.000000</td>\n",
              "      <td>...</td>\n",
              "      <td>0.0</td>\n",
              "      <td>0.18468</td>\n",
              "      <td>0.0</td>\n",
              "      <td>0.0</td>\n",
              "      <td>0.0</td>\n",
              "      <td>0.0</td>\n",
              "      <td>0.0</td>\n",
              "      <td>0.0</td>\n",
              "      <td>0.0</td>\n",
              "      <td>0.0</td>\n",
              "    </tr>\n",
              "    <tr>\n",
              "      <th>3</th>\n",
              "      <td>4.4</td>\n",
              "      <td>3.0</td>\n",
              "      <td>3.0</td>\n",
              "      <td>3.0</td>\n",
              "      <td>3.0</td>\n",
              "      <td>0.0</td>\n",
              "      <td>0.161012</td>\n",
              "      <td>0.0</td>\n",
              "      <td>0.0</td>\n",
              "      <td>0.000000</td>\n",
              "      <td>...</td>\n",
              "      <td>0.0</td>\n",
              "      <td>0.00000</td>\n",
              "      <td>0.0</td>\n",
              "      <td>0.0</td>\n",
              "      <td>0.0</td>\n",
              "      <td>0.0</td>\n",
              "      <td>0.0</td>\n",
              "      <td>0.0</td>\n",
              "      <td>0.0</td>\n",
              "      <td>0.0</td>\n",
              "    </tr>\n",
              "    <tr>\n",
              "      <th>4</th>\n",
              "      <td>4.4</td>\n",
              "      <td>4.0</td>\n",
              "      <td>3.0</td>\n",
              "      <td>3.5</td>\n",
              "      <td>2.5</td>\n",
              "      <td>0.0</td>\n",
              "      <td>0.000000</td>\n",
              "      <td>0.0</td>\n",
              "      <td>0.0</td>\n",
              "      <td>0.000000</td>\n",
              "      <td>...</td>\n",
              "      <td>0.0</td>\n",
              "      <td>0.00000</td>\n",
              "      <td>0.0</td>\n",
              "      <td>0.0</td>\n",
              "      <td>0.0</td>\n",
              "      <td>0.0</td>\n",
              "      <td>0.0</td>\n",
              "      <td>0.0</td>\n",
              "      <td>0.0</td>\n",
              "      <td>0.0</td>\n",
              "    </tr>\n",
              "  </tbody>\n",
              "</table>\n",
              "<p>5 rows × 1005 columns</p>\n",
              "</div>\n",
              "    <div class=\"colab-df-buttons\">\n",
              "\n",
              "  <div class=\"colab-df-container\">\n",
              "    <button class=\"colab-df-convert\" onclick=\"convertToInteractive('df-5dd09d3d-0989-4fbe-ba4e-963f7eecb538')\"\n",
              "            title=\"Convert this dataframe to an interactive table.\"\n",
              "            style=\"display:none;\">\n",
              "\n",
              "  <svg xmlns=\"http://www.w3.org/2000/svg\" height=\"24px\" viewBox=\"0 -960 960 960\">\n",
              "    <path d=\"M120-120v-720h720v720H120Zm60-500h600v-160H180v160Zm220 220h160v-160H400v160Zm0 220h160v-160H400v160ZM180-400h160v-160H180v160Zm440 0h160v-160H620v160ZM180-180h160v-160H180v160Zm440 0h160v-160H620v160Z\"/>\n",
              "  </svg>\n",
              "    </button>\n",
              "\n",
              "  <style>\n",
              "    .colab-df-container {\n",
              "      display:flex;\n",
              "      gap: 12px;\n",
              "    }\n",
              "\n",
              "    .colab-df-convert {\n",
              "      background-color: #E8F0FE;\n",
              "      border: none;\n",
              "      border-radius: 50%;\n",
              "      cursor: pointer;\n",
              "      display: none;\n",
              "      fill: #1967D2;\n",
              "      height: 32px;\n",
              "      padding: 0 0 0 0;\n",
              "      width: 32px;\n",
              "    }\n",
              "\n",
              "    .colab-df-convert:hover {\n",
              "      background-color: #E2EBFA;\n",
              "      box-shadow: 0px 1px 2px rgba(60, 64, 67, 0.3), 0px 1px 3px 1px rgba(60, 64, 67, 0.15);\n",
              "      fill: #174EA6;\n",
              "    }\n",
              "\n",
              "    .colab-df-buttons div {\n",
              "      margin-bottom: 4px;\n",
              "    }\n",
              "\n",
              "    [theme=dark] .colab-df-convert {\n",
              "      background-color: #3B4455;\n",
              "      fill: #D2E3FC;\n",
              "    }\n",
              "\n",
              "    [theme=dark] .colab-df-convert:hover {\n",
              "      background-color: #434B5C;\n",
              "      box-shadow: 0px 1px 3px 1px rgba(0, 0, 0, 0.15);\n",
              "      filter: drop-shadow(0px 1px 2px rgba(0, 0, 0, 0.3));\n",
              "      fill: #FFFFFF;\n",
              "    }\n",
              "  </style>\n",
              "\n",
              "    <script>\n",
              "      const buttonEl =\n",
              "        document.querySelector('#df-5dd09d3d-0989-4fbe-ba4e-963f7eecb538 button.colab-df-convert');\n",
              "      buttonEl.style.display =\n",
              "        google.colab.kernel.accessAllowed ? 'block' : 'none';\n",
              "\n",
              "      async function convertToInteractive(key) {\n",
              "        const element = document.querySelector('#df-5dd09d3d-0989-4fbe-ba4e-963f7eecb538');\n",
              "        const dataTable =\n",
              "          await google.colab.kernel.invokeFunction('convertToInteractive',\n",
              "                                                    [key], {});\n",
              "        if (!dataTable) return;\n",
              "\n",
              "        const docLinkHtml = 'Like what you see? Visit the ' +\n",
              "          '<a target=\"_blank\" href=https://colab.research.google.com/notebooks/data_table.ipynb>data table notebook</a>'\n",
              "          + ' to learn more about interactive tables.';\n",
              "        element.innerHTML = '';\n",
              "        dataTable['output_type'] = 'display_data';\n",
              "        await google.colab.output.renderOutput(dataTable, element);\n",
              "        const docLink = document.createElement('div');\n",
              "        docLink.innerHTML = docLinkHtml;\n",
              "        element.appendChild(docLink);\n",
              "      }\n",
              "    </script>\n",
              "  </div>\n",
              "\n",
              "\n",
              "<div id=\"df-2c549e2a-7ded-4408-a618-f706c59d5651\">\n",
              "  <button class=\"colab-df-quickchart\" onclick=\"quickchart('df-2c549e2a-7ded-4408-a618-f706c59d5651')\"\n",
              "            title=\"Suggest charts.\"\n",
              "            style=\"display:none;\">\n",
              "\n",
              "<svg xmlns=\"http://www.w3.org/2000/svg\" height=\"24px\"viewBox=\"0 0 24 24\"\n",
              "     width=\"24px\">\n",
              "    <g>\n",
              "        <path d=\"M19 3H5c-1.1 0-2 .9-2 2v14c0 1.1.9 2 2 2h14c1.1 0 2-.9 2-2V5c0-1.1-.9-2-2-2zM9 17H7v-7h2v7zm4 0h-2V7h2v10zm4 0h-2v-4h2v4z\"/>\n",
              "    </g>\n",
              "</svg>\n",
              "  </button>\n",
              "\n",
              "<style>\n",
              "  .colab-df-quickchart {\n",
              "      --bg-color: #E8F0FE;\n",
              "      --fill-color: #1967D2;\n",
              "      --hover-bg-color: #E2EBFA;\n",
              "      --hover-fill-color: #174EA6;\n",
              "      --disabled-fill-color: #AAA;\n",
              "      --disabled-bg-color: #DDD;\n",
              "  }\n",
              "\n",
              "  [theme=dark] .colab-df-quickchart {\n",
              "      --bg-color: #3B4455;\n",
              "      --fill-color: #D2E3FC;\n",
              "      --hover-bg-color: #434B5C;\n",
              "      --hover-fill-color: #FFFFFF;\n",
              "      --disabled-bg-color: #3B4455;\n",
              "      --disabled-fill-color: #666;\n",
              "  }\n",
              "\n",
              "  .colab-df-quickchart {\n",
              "    background-color: var(--bg-color);\n",
              "    border: none;\n",
              "    border-radius: 50%;\n",
              "    cursor: pointer;\n",
              "    display: none;\n",
              "    fill: var(--fill-color);\n",
              "    height: 32px;\n",
              "    padding: 0;\n",
              "    width: 32px;\n",
              "  }\n",
              "\n",
              "  .colab-df-quickchart:hover {\n",
              "    background-color: var(--hover-bg-color);\n",
              "    box-shadow: 0 1px 2px rgba(60, 64, 67, 0.3), 0 1px 3px 1px rgba(60, 64, 67, 0.15);\n",
              "    fill: var(--button-hover-fill-color);\n",
              "  }\n",
              "\n",
              "  .colab-df-quickchart-complete:disabled,\n",
              "  .colab-df-quickchart-complete:disabled:hover {\n",
              "    background-color: var(--disabled-bg-color);\n",
              "    fill: var(--disabled-fill-color);\n",
              "    box-shadow: none;\n",
              "  }\n",
              "\n",
              "  .colab-df-spinner {\n",
              "    border: 2px solid var(--fill-color);\n",
              "    border-color: transparent;\n",
              "    border-bottom-color: var(--fill-color);\n",
              "    animation:\n",
              "      spin 1s steps(1) infinite;\n",
              "  }\n",
              "\n",
              "  @keyframes spin {\n",
              "    0% {\n",
              "      border-color: transparent;\n",
              "      border-bottom-color: var(--fill-color);\n",
              "      border-left-color: var(--fill-color);\n",
              "    }\n",
              "    20% {\n",
              "      border-color: transparent;\n",
              "      border-left-color: var(--fill-color);\n",
              "      border-top-color: var(--fill-color);\n",
              "    }\n",
              "    30% {\n",
              "      border-color: transparent;\n",
              "      border-left-color: var(--fill-color);\n",
              "      border-top-color: var(--fill-color);\n",
              "      border-right-color: var(--fill-color);\n",
              "    }\n",
              "    40% {\n",
              "      border-color: transparent;\n",
              "      border-right-color: var(--fill-color);\n",
              "      border-top-color: var(--fill-color);\n",
              "    }\n",
              "    60% {\n",
              "      border-color: transparent;\n",
              "      border-right-color: var(--fill-color);\n",
              "    }\n",
              "    80% {\n",
              "      border-color: transparent;\n",
              "      border-right-color: var(--fill-color);\n",
              "      border-bottom-color: var(--fill-color);\n",
              "    }\n",
              "    90% {\n",
              "      border-color: transparent;\n",
              "      border-bottom-color: var(--fill-color);\n",
              "    }\n",
              "  }\n",
              "</style>\n",
              "\n",
              "  <script>\n",
              "    async function quickchart(key) {\n",
              "      const quickchartButtonEl =\n",
              "        document.querySelector('#' + key + ' button');\n",
              "      quickchartButtonEl.disabled = true;  // To prevent multiple clicks.\n",
              "      quickchartButtonEl.classList.add('colab-df-spinner');\n",
              "      try {\n",
              "        const charts = await google.colab.kernel.invokeFunction(\n",
              "            'suggestCharts', [key], {});\n",
              "      } catch (error) {\n",
              "        console.error('Error during call to suggestCharts:', error);\n",
              "      }\n",
              "      quickchartButtonEl.classList.remove('colab-df-spinner');\n",
              "      quickchartButtonEl.classList.add('colab-df-quickchart-complete');\n",
              "    }\n",
              "    (() => {\n",
              "      let quickchartButtonEl =\n",
              "        document.querySelector('#df-2c549e2a-7ded-4408-a618-f706c59d5651 button');\n",
              "      quickchartButtonEl.style.display =\n",
              "        google.colab.kernel.accessAllowed ? 'block' : 'none';\n",
              "    })();\n",
              "  </script>\n",
              "</div>\n",
              "    </div>\n",
              "  </div>\n"
            ]
          },
          "metadata": {},
          "execution_count": 27
        }
      ]
    },
    {
      "cell_type": "code",
      "source": [
        "X4_train_text, X4_test_text, y4_train, y4_test = train_test_split(X1_combined_train, y1, test_size=0.2, random_state=42)"
      ],
      "metadata": {
        "id": "e1PANcSvt8MA"
      },
      "execution_count": 28,
      "outputs": []
    },
    {
      "cell_type": "code",
      "source": [
        "method4_mse_results = evaluate_regression_models(X4_train_text, X4_test_text, y4_train, y4_test)"
      ],
      "metadata": {
        "colab": {
          "base_uri": "https://localhost:8080/"
        },
        "id": "B1e_WU0wn9ZG",
        "outputId": "c03b66ab-391f-47b8-b02b-4a1a1252c71a"
      },
      "execution_count": 29,
      "outputs": [
        {
          "output_type": "stream",
          "name": "stdout",
          "text": [
            "Linear Regression - MSE: 0.15278248493222485,    RMSE: 0.39087400135110656,    R²: 0.6970050143423865\n",
            "Ridge Regression - MSE: 0.15212835377096806,    RMSE: 0.39003634929448316,    R²: 0.698302273396074\n",
            "Lasso Regression - MSE: 0.5043591156628163,    RMSE: 0.7101824523760188,    R²: -0.0002343075145865292\n",
            "ElasticNet Regression - MSE: 0.5043591156628163,    RMSE: 0.7101824523760188,    R²: -0.0002343075145865292\n",
            "Decision Tree Regressor - MSE: 0.31138303547612695,    RMSE: 0.5580170566175616,    R²: 0.38247176428655205\n"
          ]
        }
      ]
    },
    {
      "cell_type": "markdown",
      "source": [
        "Method 5"
      ],
      "metadata": {
        "id": "_8vb-ovvWP19"
      }
    },
    {
      "cell_type": "code",
      "source": [
        "X2_combined_train = pd.concat([X2,pd.DataFrame(X_text_tfidf.toarray(), index=X2.index)], axis=1)\n",
        "X2_combined_train.columns = X2_combined_train.columns.astype(str)"
      ],
      "metadata": {
        "id": "mlFXojHdbD01"
      },
      "execution_count": 30,
      "outputs": []
    },
    {
      "cell_type": "code",
      "source": [
        "X5_train_text, X5_test_text, y5_train, y5_test = train_test_split(X2_combined_train, y2, test_size=0.2, random_state=42)"
      ],
      "metadata": {
        "id": "iwqDlQdwbmff"
      },
      "execution_count": 31,
      "outputs": []
    },
    {
      "cell_type": "code",
      "source": [
        "method5_mse_results = evaluate_regression_models(X5_train_text, X5_test_text, y5_train, y5_test)"
      ],
      "metadata": {
        "colab": {
          "base_uri": "https://localhost:8080/"
        },
        "id": "Iq11KUYwoNKs",
        "outputId": "0bcf5b78-4f64-4fed-cef2-422406a4d8f6"
      },
      "execution_count": 32,
      "outputs": [
        {
          "output_type": "stream",
          "name": "stdout",
          "text": [
            "Linear Regression - MSE: 0.1527423381370393,    RMSE: 0.39082264281517687,    R²: 0.6970846326156253\n",
            "Ridge Regression - MSE: 0.1520859728262154,    RMSE: 0.3899820160292207,    R²: 0.6983863223873781\n",
            "Lasso Regression - MSE: 0.4989176053861192,    RMSE: 0.7063409979507909,    R²: 0.010557180324971882\n",
            "ElasticNet Regression - MSE: 0.49798252536502224,    RMSE: 0.7056787692463351,    R²: 0.01241161120235068\n",
            "Decision Tree Regressor - MSE: 0.31698452920778875,    RMSE: 0.5630137913122455,    R²: 0.37136300065020356\n"
          ]
        }
      ]
    },
    {
      "cell_type": "markdown",
      "source": [
        "Cleaning Text data"
      ],
      "metadata": {
        "id": "UksOvgPlqcTC"
      }
    },
    {
      "cell_type": "code",
      "source": [
        "import nltk\n",
        "from nltk.corpus import stopwords\n",
        "from nltk.stem import WordNetLemmatizer\n",
        "import string"
      ],
      "metadata": {
        "id": "qLNdtjC-fGAz"
      },
      "execution_count": 33,
      "outputs": []
    },
    {
      "cell_type": "code",
      "source": [
        "def preprocess_text(text):\n",
        "    # Convert to lowercase\n",
        "    text = text.lower()\n",
        "\n",
        "    # Remove punctuation\n",
        "    text = text.translate(str.maketrans('', '', string.punctuation))\n",
        "\n",
        "    # Tokenization (split text into words)\n",
        "    words = nltk.word_tokenize(text)\n",
        "\n",
        "    # Remove stopwords (common words like 'the', 'and', 'in', etc.)\n",
        "    stop_words = set(stopwords.words('english'))\n",
        "    words = [word for word in words if word not in stop_words]\n",
        "\n",
        "    # Lemmatization (reduce words to their base form)\n",
        "    lemmatizer = WordNetLemmatizer()\n",
        "    words = [lemmatizer.lemmatize(word) for word in words]\n",
        "\n",
        "    # Join the cleaned words back into a sentence\n",
        "    cleaned_text = ' '.join(words)\n",
        "\n",
        "    return cleaned_text\n"
      ],
      "metadata": {
        "id": "2dm419OxfYJi"
      },
      "execution_count": 34,
      "outputs": []
    },
    {
      "cell_type": "code",
      "source": [
        "nltk.download('punkt')\n",
        "nltk.download('stopwords')\n",
        "nltk.download('wordnet')"
      ],
      "metadata": {
        "colab": {
          "base_uri": "https://localhost:8080/"
        },
        "id": "6Apk_lQzf5SQ",
        "outputId": "3cb83990-71f7-446a-e654-9aed83098ae6"
      },
      "execution_count": 35,
      "outputs": [
        {
          "output_type": "stream",
          "name": "stderr",
          "text": [
            "[nltk_data] Downloading package punkt to /root/nltk_data...\n",
            "[nltk_data]   Unzipping tokenizers/punkt.zip.\n",
            "[nltk_data] Downloading package stopwords to /root/nltk_data...\n",
            "[nltk_data]   Unzipping corpora/stopwords.zip.\n",
            "[nltk_data] Downloading package wordnet to /root/nltk_data...\n"
          ]
        },
        {
          "output_type": "execute_result",
          "data": {
            "text/plain": [
              "True"
            ]
          },
          "metadata": {},
          "execution_count": 35
        }
      ]
    },
    {
      "cell_type": "markdown",
      "source": [
        "Method 6"
      ],
      "metadata": {
        "id": "cFfOTTClqimX"
      }
    },
    {
      "cell_type": "code",
      "source": [
        "# Apply text preprocessing to the 'review/text' column\n",
        "data['cleaned_text'] = data['review/text'].apply(preprocess_text)"
      ],
      "metadata": {
        "id": "9cdmGI5hfc1E"
      },
      "execution_count": 36,
      "outputs": []
    },
    {
      "cell_type": "code",
      "source": [
        "from sklearn.feature_extraction.text import TfidfVectorizer\n",
        "\n",
        "selected_features_clean = data[['cleaned_text', 'review/overall']]\n",
        "\n",
        "# Split the data into input features (X) and the target variable (y)\n",
        "X6 = selected_features_clean['cleaned_text']\n",
        "y6 = selected_features_clean['review/overall']\n",
        "\n",
        "# Text processing: Convert text to TF-IDF vectors\n",
        "tfidf_vectorizer = TfidfVectorizer(max_features=1000)\n",
        "X6_text_tfidf = tfidf_vectorizer.fit_transform(X6)\n",
        "\n",
        "X6_train_text, X6_test_text, y6_train, y6_test = train_test_split(X6_text_tfidf, y6, test_size=0.2, random_state=42)\n"
      ],
      "metadata": {
        "id": "3FRzI26hgrzC"
      },
      "execution_count": 37,
      "outputs": []
    },
    {
      "cell_type": "code",
      "source": [
        "method6_mse_results = evaluate_regression_models(X6_train_text, X6_test_text, y6_train, y6_test)"
      ],
      "metadata": {
        "colab": {
          "base_uri": "https://localhost:8080/"
        },
        "id": "aznaEU2OpxhL",
        "outputId": "9990a64d-dd32-4322-d72a-1e3d466106d4"
      },
      "execution_count": 38,
      "outputs": [
        {
          "output_type": "stream",
          "name": "stdout",
          "text": [
            "Linear Regression - MSE: 0.3177939434409973,    RMSE: 0.5637321557628209,    R²: 0.369757787499685\n",
            "Ridge Regression - MSE: 0.31674928525246127,    RMSE: 0.5628048376235418,    R²: 0.37182953147605124\n",
            "Lasso Regression - MSE: 0.5043591156628163,    RMSE: 0.7101824523760188,    R²: -0.0002343075145865292\n",
            "ElasticNet Regression - MSE: 0.5043591156628163,    RMSE: 0.7101824523760188,    R²: -0.0002343075145865292\n",
            "Decision Tree Regressor - MSE: 0.6745132035209389,    RMSE: 0.8212875279224316,    R²: -0.3376802878769729\n"
          ]
        }
      ]
    },
    {
      "cell_type": "markdown",
      "source": [
        "Method 7"
      ],
      "metadata": {
        "id": "tE-R7000qwed"
      }
    },
    {
      "cell_type": "code",
      "source": [
        "X1_combined_train_clean = pd.concat([X1,pd.DataFrame(X6_text_tfidf.toarray(), index=X1.index)], axis=1)\n",
        "\n",
        "X1_combined_train_clean.columns = X1_combined_train_clean.columns.astype(str)\n",
        "\n",
        "X7_train_text, X7_test_text, y7_train, y7_test = train_test_split(X1_combined_train_clean, y1, test_size=0.2, random_state=42)\n"
      ],
      "metadata": {
        "id": "REpMe4Ouhy29"
      },
      "execution_count": 39,
      "outputs": []
    },
    {
      "cell_type": "code",
      "source": [
        "method7_mse_results = evaluate_regression_models(X7_train_text, X7_test_text, y7_train, y7_test)"
      ],
      "metadata": {
        "colab": {
          "base_uri": "https://localhost:8080/"
        },
        "id": "mJFpPtIFp_G9",
        "outputId": "da115287-ef06-4229-f09d-99554f6bbd35"
      },
      "execution_count": 40,
      "outputs": [
        {
          "output_type": "stream",
          "name": "stdout",
          "text": [
            "Linear Regression - MSE: 0.15233848090818944,    RMSE: 0.3903056250019841,    R²: 0.6978855537115047\n",
            "Ridge Regression - MSE: 0.15178898055486253,    RMSE: 0.38960105307206566,    R²: 0.6989753111647167\n",
            "Lasso Regression - MSE: 0.5043591156628163,    RMSE: 0.7101824523760188,    R²: -0.0002343075145865292\n",
            "ElasticNet Regression - MSE: 0.5043591156628163,    RMSE: 0.7101824523760188,    R²: -0.0002343075145865292\n",
            "Decision Tree Regressor - MSE: 0.30121365697519337,    RMSE: 0.5488293514155319,    R²: 0.4026394601739707\n"
          ]
        }
      ]
    },
    {
      "cell_type": "markdown",
      "source": [
        "Method 8"
      ],
      "metadata": {
        "id": "R87DG_PAq12p"
      }
    },
    {
      "cell_type": "code",
      "source": [
        "X2_combined_train_clean = pd.concat([X2,pd.DataFrame(X6_text_tfidf.toarray(), index=X2.index)], axis=1)\n",
        "\n",
        "X2_combined_train_clean.columns = X2_combined_train_clean.columns.astype(str)\n",
        "\n",
        "X8_train_text, X8_test_text, y8_train, y8_test = train_test_split(X2_combined_train_clean, y2, test_size=0.2, random_state=42)"
      ],
      "metadata": {
        "id": "9no3iAKfigJY"
      },
      "execution_count": 41,
      "outputs": []
    },
    {
      "cell_type": "code",
      "source": [
        "method8_mse_results = evaluate_regression_models(X8_train_text, X8_test_text, y8_train, y8_test)"
      ],
      "metadata": {
        "colab": {
          "base_uri": "https://localhost:8080/"
        },
        "id": "wX5ipuQMqMua",
        "outputId": "221e10e3-aad8-4488-cdd2-d1b5da84b010"
      },
      "execution_count": 42,
      "outputs": [
        {
          "output_type": "stream",
          "name": "stdout",
          "text": [
            "Linear Regression - MSE: 0.15230775413220074,    RMSE: 0.39026626056091596,    R²: 0.6979464904023442\n",
            "Ridge Regression - MSE: 0.15175652486702443,    RMSE: 0.3895593983810741,    R²: 0.6990396765968889\n",
            "Lasso Regression - MSE: 0.4989176053861192,    RMSE: 0.7063409979507909,    R²: 0.010557180324971882\n",
            "ElasticNet Regression - MSE: 0.49798252536502224,    RMSE: 0.7056787692463351,    R²: 0.01241161120235068\n",
            "Decision Tree Regressor - MSE: 0.3004467858095492,    RMSE: 0.548130263541021,    R²: 0.4041603028146612\n"
          ]
        }
      ]
    }
  ]
}